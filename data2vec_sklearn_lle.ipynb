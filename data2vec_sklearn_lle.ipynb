{
 "cells": [
  {
   "cell_type": "code",
   "execution_count": 1,
   "metadata": {},
   "outputs": [],
   "source": [
    "import torch\n",
    "import torch.nn as nn\n",
    "import torch.optim as optim\n",
    "import torch.nn.functional as F\n",
    "import torch.utils.data\n",
    "from torch.optim import *\n",
    "import torchvision\n",
    "import torchvision.transforms as transforms\n",
    "import matplotlib.pyplot as plt\n",
    "from pathlib import Path\n",
    "import pandas as pd\n",
    "import numpy as np\n",
    "\n",
    "DATADIR = \".\"\n",
    "FILE = \"1k.csv\"\n",
    "PATH_TO_DATA = Path(DATADIR)/FILE\n",
    "\n",
    "# read the data in, convert it into PyTorch tensor\n",
    "word2vec_dat_or = pd.read_csv(PATH_TO_DATA)[[str(i) for i in range(1,301)]]\n",
    "word2vec_dat = torch.Tensor(word2vec_dat_or.to_numpy())"
   ]
  },
  {
   "cell_type": "code",
   "execution_count": 2,
   "metadata": {},
   "outputs": [
    {
     "data": {
      "text/plain": [
       "torch.Size([1000, 300])"
      ]
     },
     "execution_count": 2,
     "metadata": {},
     "output_type": "execute_result"
    }
   ],
   "source": [
    "word2vec_dat.shape"
   ]
  },
  {
   "cell_type": "code",
   "execution_count": 4,
   "metadata": {},
   "outputs": [],
   "source": [
    "import numpy as np\n",
    "from sklearn.datasets import make_swiss_roll\n",
    "import matplotlib.pyplot as plt\n",
    "from sklearn.manifold import LocallyLinearEmbedding\n",
    "from mpl_toolkits.mplot3d import Axes3D\n",
    "import time\n",
    "\n",
    "observations_nums = [10**4, 5*10**4, 10**5, 2*10**5, 5*10**5, 6*10**5, 10**6]\n",
    "exec_times = list()\n",
    "\n",
    "\n",
    "start_time = time.time()\n",
    "re1000 = LocallyLinearEmbedding(n_neighbors = 10, n_components = 2).fit_transform(word2vec_dat)\n",
    "exec_sec = time.time() - start_time\n",
    "exec_times.append(exec_sec)"
   ]
  },
  {
   "cell_type": "code",
   "execution_count": 5,
   "metadata": {},
   "outputs": [
    {
     "data": {
      "text/plain": [
       "[0.8636631965637207]"
      ]
     },
     "execution_count": 5,
     "metadata": {},
     "output_type": "execute_result"
    }
   ],
   "source": [
    "exec_times"
   ]
  },
  {
   "cell_type": "code",
   "execution_count": 6,
   "metadata": {},
   "outputs": [],
   "source": [
    "DATADIR = \".\"\n",
    "FILE = \"10k.csv\"\n",
    "PATH_TO_DATA = Path(DATADIR)/FILE\n",
    "\n",
    "# read the data in, convert it into PyTorch tensor\n",
    "word2vec_dat_or = pd.read_csv(PATH_TO_DATA)[[str(i) for i in range(1,301)]]\n",
    "word2vec_dat = torch.Tensor(word2vec_dat_or.to_numpy())"
   ]
  },
  {
   "cell_type": "code",
   "execution_count": 7,
   "metadata": {},
   "outputs": [],
   "source": [
    "start_time = time.time()\n",
    "re10000 = LocallyLinearEmbedding(n_neighbors = 10, n_components = 2).fit_transform(word2vec_dat)\n",
    "exec_sec = time.time() - start_time\n",
    "exec_times.append(exec_sec)"
   ]
  },
  {
   "cell_type": "code",
   "execution_count": 8,
   "metadata": {},
   "outputs": [
    {
     "data": {
      "text/plain": [
       "[0.8636631965637207, 124.03565073013306]"
      ]
     },
     "execution_count": 8,
     "metadata": {},
     "output_type": "execute_result"
    }
   ],
   "source": [
    "exec_times"
   ]
  },
  {
   "cell_type": "code",
   "execution_count": 9,
   "metadata": {},
   "outputs": [],
   "source": [
    "DATADIR = \".\"\n",
    "FILE = \"100k.csv\"\n",
    "PATH_TO_DATA = Path(DATADIR)/FILE\n",
    "\n",
    "# read the data in, convert it into PyTorch tensor\n",
    "word2vec_dat_or = pd.read_csv(PATH_TO_DATA)[[str(i) for i in range(1,301)]]\n",
    "word2vec_dat = torch.Tensor(word2vec_dat_or.to_numpy())"
   ]
  },
  {
   "cell_type": "code",
   "execution_count": null,
   "metadata": {},
   "outputs": [],
   "source": [
    "start_time = time.time()\n",
    "re100000 = LocallyLinearEmbedding(n_neighbors = 10, n_components = 2).fit_transform(word2vec_dat)\n",
    "exec_sec = time.time() - start_time\n",
    "exec_times.append(exec_sec)"
   ]
  },
  {
   "cell_type": "code",
   "execution_count": null,
   "metadata": {},
   "outputs": [],
   "source": [
    "exec_times"
   ]
  },
  {
   "cell_type": "code",
   "execution_count": null,
   "metadata": {},
   "outputs": [],
   "source": []
  }
 ],
 "metadata": {
  "kernelspec": {
   "display_name": "Python 3",
   "language": "python",
   "name": "python3"
  },
  "language_info": {
   "codemirror_mode": {
    "name": "ipython",
    "version": 3
   },
   "file_extension": ".py",
   "mimetype": "text/x-python",
   "name": "python",
   "nbconvert_exporter": "python",
   "pygments_lexer": "ipython3",
   "version": "3.7.4"
  }
 },
 "nbformat": 4,
 "nbformat_minor": 2
}
