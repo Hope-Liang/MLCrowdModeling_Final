{
 "cells": [
  {
   "cell_type": "code",
   "execution_count": 10,
   "metadata": {},
   "outputs": [],
   "source": [
    "from sklearn.datasets import make_swiss_roll\n",
    "import numpy as np\n",
    "import pandas as pd\n",
    "from gensim.models import KeyedVectors\n",
    "from pathlib import Path\n",
    "import plotly.graph_objects as go\n",
    "def make_NoisySwissRoll(n_samples, n_noise):\n",
    "    \"\"\"\n",
    "    Create a classic Swiss Roll dataset with additional noise columns\n",
    "    :param n_samples: nrows for the dataset\n",
    "    :param n_noise: number of additional noise columns\n",
    "    :return: (created noisy dataset (numpy), corresponding dataset with no noise (numpy), colors)\n",
    "    \"\"\"\n",
    "    data, colors = make_swiss_roll(n_samples=n_samples)\n",
    "    data_df = pd.DataFrame(columns=[str(i) for i in range(3)], data=data)\n",
    "    for j in range(n_noise):\n",
    "        data_df[str(j + 3)] = pd.Series(np.random.rand(n_samples))\n",
    "    return data_df.to_numpy(), data_df[[\"0\", \"1\", \"2\"]].to_numpy(), colors"
   ]
  },
  {
   "cell_type": "code",
   "execution_count": 26,
   "metadata": {},
   "outputs": [],
   "source": [
    "data, data_no_noise, colors = make_NoisySwissRoll(50000, 4997)"
   ]
  },
  {
   "cell_type": "code",
   "execution_count": 27,
   "metadata": {},
   "outputs": [],
   "source": [
    "dt=pd.DataFrame(data)\n",
    "dt.to_csv(\"50k-5000dim.csv\")"
   ]
  },
  {
   "cell_type": "code",
   "execution_count": null,
   "metadata": {},
   "outputs": [],
   "source": []
  }
 ],
 "metadata": {
  "kernelspec": {
   "display_name": "Python 3",
   "language": "python",
   "name": "python3"
  },
  "language_info": {
   "codemirror_mode": {
    "name": "ipython",
    "version": 3
   },
   "file_extension": ".py",
   "mimetype": "text/x-python",
   "name": "python",
   "nbconvert_exporter": "python",
   "pygments_lexer": "ipython3",
   "version": "3.7.4"
  }
 },
 "nbformat": 4,
 "nbformat_minor": 2
}
